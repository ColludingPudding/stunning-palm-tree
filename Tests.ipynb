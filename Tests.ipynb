{
 "cells": [
  {
   "cell_type": "code",
   "execution_count": null,
   "metadata": {},
   "outputs": [],
   "source": [
    "from data import RedditAPI\n",
    "x = RedditAPI(subreddit=\"pics\")"
   ]
  },
  {
   "cell_type": "code",
   "execution_count": 4,
   "metadata": {},
   "outputs": [
    {
     "data": {
      "text/html": [
       "<div>\n",
       "<style scoped>\n",
       "    .dataframe tbody tr th:only-of-type {\n",
       "        vertical-align: middle;\n",
       "    }\n",
       "\n",
       "    .dataframe tbody tr th {\n",
       "        vertical-align: top;\n",
       "    }\n",
       "\n",
       "    .dataframe thead th {\n",
       "        text-align: right;\n",
       "    }\n",
       "</style>\n",
       "<table border=\"1\" class=\"dataframe\">\n",
       "  <thead>\n",
       "    <tr style=\"text-align: right;\">\n",
       "      <th></th>\n",
       "      <th>author</th>\n",
       "      <th>full_link</th>\n",
       "      <th>score</th>\n",
       "      <th>thumbnail</th>\n",
       "      <th>thumbnail_height</th>\n",
       "      <th>thumbnail_width</th>\n",
       "      <th>title</th>\n",
       "      <th>url</th>\n",
       "    </tr>\n",
       "    <tr>\n",
       "      <th>hash</th>\n",
       "      <th></th>\n",
       "      <th></th>\n",
       "      <th></th>\n",
       "      <th></th>\n",
       "      <th></th>\n",
       "      <th></th>\n",
       "      <th></th>\n",
       "      <th></th>\n",
       "    </tr>\n",
       "  </thead>\n",
       "  <tbody>\n",
       "    <tr>\n",
       "      <th>0203071f1f1f1b1b</th>\n",
       "      <td>kiko20010</td>\n",
       "      <td>https://www.reddit.com/r/pics/comments/rb8u62/...</td>\n",
       "      <td>112043</td>\n",
       "      <td>https://b.thumbs.redditmedia.com/EA0DxegMfspv_...</td>\n",
       "      <td>93</td>\n",
       "      <td>140</td>\n",
       "      <td>Finally, after more than a decade of hard work...</td>\n",
       "      <td>https://i.redd.it/3k3qs22el6481.jpg</td>\n",
       "    </tr>\n",
       "    <tr>\n",
       "      <th>a6ffff818183c7ed</th>\n",
       "      <td>deathakissaway</td>\n",
       "      <td>https://www.reddit.com/r/pics/comments/rbq5xx/...</td>\n",
       "      <td>10882</td>\n",
       "      <td>https://b.thumbs.redditmedia.com/EFxQW6S_fiNAy...</td>\n",
       "      <td>116</td>\n",
       "      <td>140</td>\n",
       "      <td>Massachusetts company baked the worlds largest...</td>\n",
       "      <td>https://i.redd.it/d3vs1fj6ab481.jpg</td>\n",
       "    </tr>\n",
       "    <tr>\n",
       "      <th>7e7e7e7e7e3e3e3e</th>\n",
       "      <td>HiItsLust</td>\n",
       "      <td>https://www.reddit.com/r/pics/comments/rbqd54/...</td>\n",
       "      <td>87957</td>\n",
       "      <td>https://b.thumbs.redditmedia.com/8dLQsJKp9RCZf...</td>\n",
       "      <td>140</td>\n",
       "      <td>140</td>\n",
       "      <td>Explanation of taxes.</td>\n",
       "      <td>https://i.redd.it/bjb4y2a7cb481.png</td>\n",
       "    </tr>\n",
       "    <tr>\n",
       "      <th>0f0f03cad8c4a0ff</th>\n",
       "      <td>NARVALhacker69</td>\n",
       "      <td>https://www.reddit.com/r/pics/comments/rbqdfi/...</td>\n",
       "      <td>14021</td>\n",
       "      <td>https://a.thumbs.redditmedia.com/Ro5WJLA6YAGF_...</td>\n",
       "      <td>140</td>\n",
       "      <td>140</td>\n",
       "      <td>What the US needs the most.</td>\n",
       "      <td>https://i.redd.it/n7cu3x3dcb481.jpg</td>\n",
       "    </tr>\n",
       "    <tr>\n",
       "      <th>ffe3c3814d3d0808</th>\n",
       "      <td>_Xyreo_</td>\n",
       "      <td>https://www.reddit.com/r/pics/comments/rbtpby/...</td>\n",
       "      <td>11278</td>\n",
       "      <td>https://b.thumbs.redditmedia.com/DpGbOO-gc_GqM...</td>\n",
       "      <td>105</td>\n",
       "      <td>140</td>\n",
       "      <td>01 Call Missed. IED that was defused before th...</td>\n",
       "      <td>https://i.redd.it/320f376v6c481.png</td>\n",
       "    </tr>\n",
       "  </tbody>\n",
       "</table>\n",
       "</div>"
      ],
      "text/plain": [
       "                          author  \\\n",
       "hash                               \n",
       "0203071f1f1f1b1b       kiko20010   \n",
       "a6ffff818183c7ed  deathakissaway   \n",
       "7e7e7e7e7e3e3e3e       HiItsLust   \n",
       "0f0f03cad8c4a0ff  NARVALhacker69   \n",
       "ffe3c3814d3d0808         _Xyreo_   \n",
       "\n",
       "                                                          full_link   score  \\\n",
       "hash                                                                          \n",
       "0203071f1f1f1b1b  https://www.reddit.com/r/pics/comments/rb8u62/...  112043   \n",
       "a6ffff818183c7ed  https://www.reddit.com/r/pics/comments/rbq5xx/...   10882   \n",
       "7e7e7e7e7e3e3e3e  https://www.reddit.com/r/pics/comments/rbqd54/...   87957   \n",
       "0f0f03cad8c4a0ff  https://www.reddit.com/r/pics/comments/rbqdfi/...   14021   \n",
       "ffe3c3814d3d0808  https://www.reddit.com/r/pics/comments/rbtpby/...   11278   \n",
       "\n",
       "                                                          thumbnail  \\\n",
       "hash                                                                  \n",
       "0203071f1f1f1b1b  https://b.thumbs.redditmedia.com/EA0DxegMfspv_...   \n",
       "a6ffff818183c7ed  https://b.thumbs.redditmedia.com/EFxQW6S_fiNAy...   \n",
       "7e7e7e7e7e3e3e3e  https://b.thumbs.redditmedia.com/8dLQsJKp9RCZf...   \n",
       "0f0f03cad8c4a0ff  https://a.thumbs.redditmedia.com/Ro5WJLA6YAGF_...   \n",
       "ffe3c3814d3d0808  https://b.thumbs.redditmedia.com/DpGbOO-gc_GqM...   \n",
       "\n",
       "                  thumbnail_height  thumbnail_width  \\\n",
       "hash                                                  \n",
       "0203071f1f1f1b1b                93              140   \n",
       "a6ffff818183c7ed               116              140   \n",
       "7e7e7e7e7e3e3e3e               140              140   \n",
       "0f0f03cad8c4a0ff               140              140   \n",
       "ffe3c3814d3d0808               105              140   \n",
       "\n",
       "                                                              title  \\\n",
       "hash                                                                  \n",
       "0203071f1f1f1b1b  Finally, after more than a decade of hard work...   \n",
       "a6ffff818183c7ed  Massachusetts company baked the worlds largest...   \n",
       "7e7e7e7e7e3e3e3e                              Explanation of taxes.   \n",
       "0f0f03cad8c4a0ff                        What the US needs the most.   \n",
       "ffe3c3814d3d0808  01 Call Missed. IED that was defused before th...   \n",
       "\n",
       "                                                  url  \n",
       "hash                                                   \n",
       "0203071f1f1f1b1b  https://i.redd.it/3k3qs22el6481.jpg  \n",
       "a6ffff818183c7ed  https://i.redd.it/d3vs1fj6ab481.jpg  \n",
       "7e7e7e7e7e3e3e3e  https://i.redd.it/bjb4y2a7cb481.png  \n",
       "0f0f03cad8c4a0ff  https://i.redd.it/n7cu3x3dcb481.jpg  \n",
       "ffe3c3814d3d0808  https://i.redd.it/320f376v6c481.png  "
      ]
     },
     "execution_count": 4,
     "metadata": {},
     "output_type": "execute_result"
    }
   ],
   "source": [
    "df = x.update()\n",
    "df.head()"
   ]
  },
  {
   "cell_type": "code",
   "execution_count": null,
   "metadata": {},
   "outputs": [],
   "source": [
    "df = x.initialize_past_data(2020, query_per_year=1)\n",
    "df.head()"
   ]
  },
  {
   "cell_type": "code",
   "execution_count": 22,
   "metadata": {},
   "outputs": [],
   "source": [
    "import sqlite3\n",
    "\n",
    "import pandas as pd\n",
    "import requests\n",
    "from PIL import Image\n",
    "import imagehash\n",
    "from io import BytesIO\n",
    "from datetime import datetime, timedelta\n",
    "\n",
    "# Helper function\n",
    "def hash_from_url(thumbnail, url):\n",
    "    if thumbnail.startswith(\"https:\"):\n",
    "        response = requests.get(thumbnail)\n",
    "        if response.headers.get('content-type').startswith(\"image\"):\n",
    "            img = Image.open(BytesIO(response.content))\n",
    "            img = img.resize((140,140))\n",
    "            return str(imagehash.average_hash(img))\n",
    "    return \"Image empty\"    "
   ]
  },
  {
   "cell_type": "code",
   "execution_count": 2,
   "metadata": {},
   "outputs": [],
   "source": [
    "import sqlite3\n",
    "from data import SQLRepository\n",
    "\n",
    "con = sqlite3.connect(\"reddit.sqlite\")\n",
    "dbase = SQLRepository(con)"
   ]
  },
  {
   "cell_type": "code",
   "execution_count": null,
   "metadata": {},
   "outputs": [],
   "source": [
    "dbase.insert_table(\"pics\",df)"
   ]
  },
  {
   "cell_type": "code",
   "execution_count": null,
   "metadata": {},
   "outputs": [],
   "source": [
    "t\n",
    "sql = f\"\"\"\n",
    "    UPDATE {table} AS f\n",
    "    SET author=t.author,\tfull_link=t.full_link,\tscore=t.score,\tthumbnail=t.thumbnail,\tthumbnail_height=t.thumbnail_height,\tthumbnail_width=t.thumbnail_width,\ttitle=t.title,\turl=t.url, hash = t.hash\n",
    "    FROM temp_table AS t\n",
    "    WHERE f.hash = t.hash\n",
    "\"\"\"\n",
    "\n",
    "cur = con.cursor()     # TRANSACTION\n",
    "cur.execute(sql)"
   ]
  },
  {
   "cell_type": "code",
   "execution_count": 16,
   "metadata": {},
   "outputs": [
    {
     "name": "stdout",
     "output_type": "stream",
     "text": [
      "30\n"
     ]
    }
   ],
   "source": [
    "text = dbase.read_table('pics')\n",
    "print(len(text))"
   ]
  },
  {
   "cell_type": "code",
   "execution_count": 11,
   "metadata": {},
   "outputs": [
    {
     "name": "stdout",
     "output_type": "stream",
     "text": [
      "10\n"
     ]
    },
    {
     "data": {
      "text/html": [
       "<div>\n",
       "<style scoped>\n",
       "    .dataframe tbody tr th:only-of-type {\n",
       "        vertical-align: middle;\n",
       "    }\n",
       "\n",
       "    .dataframe tbody tr th {\n",
       "        vertical-align: top;\n",
       "    }\n",
       "\n",
       "    .dataframe thead th {\n",
       "        text-align: right;\n",
       "    }\n",
       "</style>\n",
       "<table border=\"1\" class=\"dataframe\">\n",
       "  <thead>\n",
       "    <tr style=\"text-align: right;\">\n",
       "      <th></th>\n",
       "      <th>author</th>\n",
       "      <th>full_link</th>\n",
       "      <th>score</th>\n",
       "      <th>thumbnail</th>\n",
       "      <th>thumbnail_height</th>\n",
       "      <th>thumbnail_width</th>\n",
       "      <th>title</th>\n",
       "      <th>url</th>\n",
       "    </tr>\n",
       "    <tr>\n",
       "      <th>hash</th>\n",
       "      <th></th>\n",
       "      <th></th>\n",
       "      <th></th>\n",
       "      <th></th>\n",
       "      <th></th>\n",
       "      <th></th>\n",
       "      <th></th>\n",
       "      <th></th>\n",
       "    </tr>\n",
       "  </thead>\n",
       "  <tbody>\n",
       "    <tr>\n",
       "      <th>0203071f1f1f1b1b</th>\n",
       "      <td>kiko20010</td>\n",
       "      <td>https://www.reddit.com/r/pics/comments/rb8u62/...</td>\n",
       "      <td>112043</td>\n",
       "      <td>https://b.thumbs.redditmedia.com/EA0DxegMfspv_...</td>\n",
       "      <td>93</td>\n",
       "      <td>140</td>\n",
       "      <td>Finally, after more than a decade of hard work...</td>\n",
       "      <td>https://i.redd.it/3k3qs22el6481.jpg</td>\n",
       "    </tr>\n",
       "    <tr>\n",
       "      <th>a6ffff818183c7ed</th>\n",
       "      <td>deathakissaway</td>\n",
       "      <td>https://www.reddit.com/r/pics/comments/rbq5xx/...</td>\n",
       "      <td>10882</td>\n",
       "      <td>https://b.thumbs.redditmedia.com/EFxQW6S_fiNAy...</td>\n",
       "      <td>116</td>\n",
       "      <td>140</td>\n",
       "      <td>Massachusetts company baked the worlds largest...</td>\n",
       "      <td>https://i.redd.it/d3vs1fj6ab481.jpg</td>\n",
       "    </tr>\n",
       "    <tr>\n",
       "      <th>7e7e7e7e7e3e3e3e</th>\n",
       "      <td>HiItsLust</td>\n",
       "      <td>https://www.reddit.com/r/pics/comments/rbqd54/...</td>\n",
       "      <td>87957</td>\n",
       "      <td>https://b.thumbs.redditmedia.com/8dLQsJKp9RCZf...</td>\n",
       "      <td>140</td>\n",
       "      <td>140</td>\n",
       "      <td>Explanation of taxes.</td>\n",
       "      <td>https://i.redd.it/bjb4y2a7cb481.png</td>\n",
       "    </tr>\n",
       "    <tr>\n",
       "      <th>0f0f03cad8c4a0ff</th>\n",
       "      <td>NARVALhacker69</td>\n",
       "      <td>https://www.reddit.com/r/pics/comments/rbqdfi/...</td>\n",
       "      <td>14021</td>\n",
       "      <td>https://a.thumbs.redditmedia.com/Ro5WJLA6YAGF_...</td>\n",
       "      <td>140</td>\n",
       "      <td>140</td>\n",
       "      <td>What the US needs the most.</td>\n",
       "      <td>https://i.redd.it/n7cu3x3dcb481.jpg</td>\n",
       "    </tr>\n",
       "    <tr>\n",
       "      <th>ffe3c3814d3d0808</th>\n",
       "      <td>_Xyreo_</td>\n",
       "      <td>https://www.reddit.com/r/pics/comments/rbtpby/...</td>\n",
       "      <td>11278</td>\n",
       "      <td>https://b.thumbs.redditmedia.com/DpGbOO-gc_GqM...</td>\n",
       "      <td>105</td>\n",
       "      <td>140</td>\n",
       "      <td>01 Call Missed. IED that was defused before th...</td>\n",
       "      <td>https://i.redd.it/320f376v6c481.png</td>\n",
       "    </tr>\n",
       "  </tbody>\n",
       "</table>\n",
       "</div>"
      ],
      "text/plain": [
       "                          author  \\\n",
       "hash                               \n",
       "0203071f1f1f1b1b       kiko20010   \n",
       "a6ffff818183c7ed  deathakissaway   \n",
       "7e7e7e7e7e3e3e3e       HiItsLust   \n",
       "0f0f03cad8c4a0ff  NARVALhacker69   \n",
       "ffe3c3814d3d0808         _Xyreo_   \n",
       "\n",
       "                                                          full_link   score  \\\n",
       "hash                                                                          \n",
       "0203071f1f1f1b1b  https://www.reddit.com/r/pics/comments/rb8u62/...  112043   \n",
       "a6ffff818183c7ed  https://www.reddit.com/r/pics/comments/rbq5xx/...   10882   \n",
       "7e7e7e7e7e3e3e3e  https://www.reddit.com/r/pics/comments/rbqd54/...   87957   \n",
       "0f0f03cad8c4a0ff  https://www.reddit.com/r/pics/comments/rbqdfi/...   14021   \n",
       "ffe3c3814d3d0808  https://www.reddit.com/r/pics/comments/rbtpby/...   11278   \n",
       "\n",
       "                                                          thumbnail  \\\n",
       "hash                                                                  \n",
       "0203071f1f1f1b1b  https://b.thumbs.redditmedia.com/EA0DxegMfspv_...   \n",
       "a6ffff818183c7ed  https://b.thumbs.redditmedia.com/EFxQW6S_fiNAy...   \n",
       "7e7e7e7e7e3e3e3e  https://b.thumbs.redditmedia.com/8dLQsJKp9RCZf...   \n",
       "0f0f03cad8c4a0ff  https://a.thumbs.redditmedia.com/Ro5WJLA6YAGF_...   \n",
       "ffe3c3814d3d0808  https://b.thumbs.redditmedia.com/DpGbOO-gc_GqM...   \n",
       "\n",
       "                  thumbnail_height  thumbnail_width  \\\n",
       "hash                                                  \n",
       "0203071f1f1f1b1b                93              140   \n",
       "a6ffff818183c7ed               116              140   \n",
       "7e7e7e7e7e3e3e3e               140              140   \n",
       "0f0f03cad8c4a0ff               140              140   \n",
       "ffe3c3814d3d0808               105              140   \n",
       "\n",
       "                                                              title  \\\n",
       "hash                                                                  \n",
       "0203071f1f1f1b1b  Finally, after more than a decade of hard work...   \n",
       "a6ffff818183c7ed  Massachusetts company baked the worlds largest...   \n",
       "7e7e7e7e7e3e3e3e                              Explanation of taxes.   \n",
       "0f0f03cad8c4a0ff                        What the US needs the most.   \n",
       "ffe3c3814d3d0808  01 Call Missed. IED that was defused before th...   \n",
       "\n",
       "                                                  url  \n",
       "hash                                                   \n",
       "0203071f1f1f1b1b  https://i.redd.it/3k3qs22el6481.jpg  \n",
       "a6ffff818183c7ed  https://i.redd.it/d3vs1fj6ab481.jpg  \n",
       "7e7e7e7e7e3e3e3e  https://i.redd.it/bjb4y2a7cb481.png  \n",
       "0f0f03cad8c4a0ff  https://i.redd.it/n7cu3x3dcb481.jpg  \n",
       "ffe3c3814d3d0808  https://i.redd.it/320f376v6c481.png  "
      ]
     },
     "execution_count": 11,
     "metadata": {},
     "output_type": "execute_result"
    }
   ],
   "source": [
    "text = dbase.read_table('temp_table')\n",
    "print(len(text))\n",
    "text.head()"
   ]
  },
  {
   "cell_type": "code",
   "execution_count": 24,
   "metadata": {},
   "outputs": [
    {
     "ename": "ModuleNotFoundError",
     "evalue": "No module named 'matplotlib'",
     "output_type": "error",
     "traceback": [
      "\u001b[1;31m---------------------------------------------------------------------------\u001b[0m",
      "\u001b[1;31mModuleNotFoundError\u001b[0m                       Traceback (most recent call last)",
      "Cell \u001b[1;32mIn [24], line 1\u001b[0m\n\u001b[1;32m----> 1\u001b[0m \u001b[39mimport\u001b[39;00m \u001b[39mmatplotlib\u001b[39;00m\u001b[39m.\u001b[39;00m\u001b[39mpyplot\u001b[39;00m \u001b[39mas\u001b[39;00m \u001b[39mplt\u001b[39;00m\n\u001b[0;32m      2\u001b[0m thumbnail \u001b[39m=\u001b[39m \u001b[39m\"\u001b[39m\u001b[39mhttps://b.thumbs.redditmedia.com/ZPXH4VHAgkEhCP7NGw01fqsD7Y8lH37leRPJl7741Sg.jpg\u001b[39m\u001b[39m\"\u001b[39m\n\u001b[0;32m      3\u001b[0m response \u001b[39m=\u001b[39m requests\u001b[39m.\u001b[39mget(thumbnail)\n",
      "\u001b[1;31mModuleNotFoundError\u001b[0m: No module named 'matplotlib'"
     ]
    }
   ],
   "source": [
    "import matplotlib.pyplot as plt\n",
    "thumbnail = \"https://b.thumbs.redditmedia.com/ZPXH4VHAgkEhCP7NGw01fqsD7Y8lH37leRPJl7741Sg.jpg\"\n",
    "response = requests.get(thumbnail)\n",
    "pic = Image.open(BytesIO(response.content))\n",
    "plt.figure(figsize=(10,10))\n",
    "plt.imshow(pic)\n"
   ]
  },
  {
   "cell_type": "code",
   "execution_count": 25,
   "metadata": {},
   "outputs": [
    {
     "ename": "ModuleNotFoundError",
     "evalue": "No module named 'sklearn'",
     "output_type": "error",
     "traceback": [
      "\u001b[1;31m---------------------------------------------------------------------------\u001b[0m",
      "\u001b[1;31mModuleNotFoundError\u001b[0m                       Traceback (most recent call last)",
      "Cell \u001b[1;32mIn [25], line 4\u001b[0m\n\u001b[0;32m      2\u001b[0m \u001b[39mimport\u001b[39;00m \u001b[39mmatplotlib\u001b[39;00m\u001b[39m.\u001b[39;00m\u001b[39mpyplot\u001b[39;00m \u001b[39mas\u001b[39;00m \u001b[39mplt\u001b[39;00m\n\u001b[0;32m      3\u001b[0m \u001b[39mimport\u001b[39;00m \u001b[39mnumpy\u001b[39;00m \u001b[39mas\u001b[39;00m \u001b[39mnp\u001b[39;00m\n\u001b[1;32m----> 4\u001b[0m \u001b[39mfrom\u001b[39;00m \u001b[39msklearn\u001b[39;00m\u001b[39m.\u001b[39;00m\u001b[39mcluster\u001b[39;00m \u001b[39mimport\u001b[39;00m KMeans\n\u001b[0;32m      5\u001b[0m \u001b[39mimport\u001b[39;00m \u001b[39mcv2\u001b[39;00m\n\u001b[0;32m      6\u001b[0m \u001b[39mfrom\u001b[39;00m \u001b[39mskimage\u001b[39;00m\u001b[39m.\u001b[39;00m\u001b[39mcolor\u001b[39;00m \u001b[39mimport\u001b[39;00m rgb2lab, deltaE_cie76\n",
      "\u001b[1;31mModuleNotFoundError\u001b[0m: No module named 'sklearn'"
     ]
    }
   ],
   "source": [
    "# import imageio\n",
    "import matplotlib.pyplot as plt\n",
    "import numpy as np\n",
    "from sklearn.cluster import KMeans\n",
    "import cv2\n",
    "from skimage.color import rgb2lab, deltaE_cie76\n",
    "from collections import Counter\n",
    "import os \n",
    "\n",
    "thumbnail = \"https://b.thumbs.redditmedia.com/ZPXH4VHAgkEhCP7NGw01fqsD7Y8lH37leRPJl7741Sg.jpg\"\n",
    "response = requests.get(thumbnail)\n",
    "pic = Image.open(BytesIO(response.content))\n",
    "plt.figure(figsize=(10,10))\n",
    "plt.imshow(pic)\n",
    "\n",
    "def get_colors(image, number_of_colors, show_chart):\n",
    "    reshaped_image = cv2.resize(image, (600, 400))\n",
    "    reshaped_image = reshaped_image.reshape(reshaped_image.shape[0]*reshaped_image.shape[1], 3)\n",
    "    clf = KMeans(n_clusters = number_of_colors)\n",
    "    labels = clf.fit_predict(reshaped_image)\n",
    "    counts = Counter(labels)\n",
    "    counts = dict(sorted(counts.items()))\n",
    "    center_colors = clf.cluster_centers_\n",
    "    ordered_colors = [center_colors[i] for i in counts.keys()]\n",
    "    hex_colors = [RGB_HEX(ordered_colors[i]) for i in counts.keys()]\n",
    "    rgb_colors = [ordered_colors[i] for i in counts.keys()]\n",
    "    if (show_chart):\n",
    "        plt.figure(figsize = (8, 6))\n",
    "        plt.pie(counts.values(), labels = hex_colors, colors = hex_colors)\n",
    "    return rgb_colors "
   ]
  },
  {
   "cell_type": "code",
   "execution_count": null,
   "metadata": {},
   "outputs": [],
   "source": [
    "import pandas as pd\n",
    "for index, row in df.iterrows():\n",
    "    row = pd.DataFrame(row).T\n",
    "    dbase.insert_table(\"pics\",row)"
   ]
  },
  {
   "cell_type": "code",
   "execution_count": null,
   "metadata": {},
   "outputs": [],
   "source": [
    "row.head().T"
   ]
  },
  {
   "cell_type": "code",
   "execution_count": null,
   "metadata": {},
   "outputs": [],
   "source": [
    "table_name = \"pics\"\n",
    "x = cur.execute(f\"SELECT name FROM sqlite_master WHERE type='table' AND name='{table_name}';\").fetchall()"
   ]
  },
  {
   "cell_type": "code",
   "execution_count": null,
   "metadata": {},
   "outputs": [],
   "source": [
    "import os\n",
    "import sqlite3\n",
    "from glob import glob\n",
    "\n",
    "import joblib\n",
    "import pandas as pd\n",
    "import requests\n",
    "from config import settings\n",
    "from data import SQLRepository"
   ]
  },
  {
   "cell_type": "markdown",
   "metadata": {},
   "source": [
    "**Task 8.4.10:** Go to the command line, navigate to the directory for this project, and start your app server by entering the following command.\n",
    "\n",
    "```bash\n",
    "uvicorn main:app --reload --workers 1 --host localhost --port 8008\n",
    "```"
   ]
  },
  {
   "cell_type": "code",
   "execution_count": null,
   "metadata": {},
   "outputs": [],
   "source": [
    "url = \"http://localhost:8008/hello\"\n",
    "response = requests.get(url)\n",
    "\n",
    "print(\"response code:\", response.status_code)\n",
    "response.json()"
   ]
  },
  {
   "cell_type": "markdown",
   "metadata": {},
   "source": [
    "**Task 8.4.17:** Create a `post` request to hit the `\"/fit\"` path running at `\"http://localhost:8008\"`. You should train a GARCH(1,1) model on 2000 observations of the Shoppers Stop data you already downloaded. Pass in your parameters as a dictionary using the `json` argument."
   ]
  },
  {
   "cell_type": "code",
   "execution_count": null,
   "metadata": {},
   "outputs": [],
   "source": [
    "# URL of `/fit` path\n",
    "url = \"http://localhost:8008/fit\"\n",
    "\n",
    "# Data to send to path\n",
    "json = {\n",
    "    \"ticker\": \"IBM\",\n",
    "    \"use_new_data\": True,\n",
    "    \"n_observations\": 2000,\n",
    "    \"p\":1,\n",
    "    \"q\":1\n",
    "}\n",
    "# Response of post request\n",
    "response = requests.post(url=url,json=json)\n",
    "# Inspect response\n",
    "print(\"response code:\", response.status_code)\n",
    "response.json()"
   ]
  },
  {
   "cell_type": "markdown",
   "metadata": {},
   "source": [
    "**Task 8.4.20:** Create a `post` request to hit the `\"/predict\"` path running at `\"http://localhost:8008\"`. You should get the 5-day volatility forecast for Shoppers Stop. When you're satisfied, submit your work to the grader.\n",
    "\n",
    "- [What's an HTTP request?](../%40textbook/22-apis.ipynb#RESTful-APIs)\n",
    "- [Make an HTTP request using requests.](..//%40textbook/22-apis.ipynb#Making-an-HTTP-Request)"
   ]
  },
  {
   "cell_type": "code",
   "execution_count": null,
   "metadata": {},
   "outputs": [],
   "source": [
    "# URL of `/predict` path\n",
    "url = \"http://localhost:8008/predict\"\n",
    "# Data to send to path\n",
    "json = {\n",
    "    \"ticker\": \"IBM\",\n",
    "    \"n_days\":3\n",
    "}\n",
    "# Response of post request\n",
    "response = requests.post(url=url,json=json)\n",
    "# Response JSON to be submitted to grader\n",
    "submission = response.json()\n",
    "# Inspect JSON\n",
    "submission"
   ]
  }
 ],
 "metadata": {
  "kernelspec": {
   "display_name": "Python 3.10.8 64-bit",
   "language": "python",
   "name": "python3"
  },
  "language_info": {
   "codemirror_mode": {
    "name": "ipython",
    "version": 3
   },
   "file_extension": ".py",
   "mimetype": "text/x-python",
   "name": "python",
   "nbconvert_exporter": "python",
   "pygments_lexer": "ipython3",
   "version": "3.10.8"
  },
  "orig_nbformat": 4,
  "vscode": {
   "interpreter": {
    "hash": "c641e028ea65beb27ee1f638e877f937e7b4d42812acb74a9e09d378fee3641b"
   }
  }
 },
 "nbformat": 4,
 "nbformat_minor": 2
}
